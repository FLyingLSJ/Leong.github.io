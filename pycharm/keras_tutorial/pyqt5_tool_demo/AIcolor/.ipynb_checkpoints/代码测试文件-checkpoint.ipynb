{
 "cells": [
  {
   "cell_type": "code",
   "execution_count": 39,
   "metadata": {
    "ExecuteTime": {
     "end_time": "2019-05-12T10:13:46.037555Z",
     "start_time": "2019-05-12T10:13:46.027563Z"
    }
   },
   "outputs": [
    {
     "data": {
      "text/plain": [
       "['address', '127.0.0.1:2019', '\\n']"
      ]
     },
     "execution_count": 39,
     "metadata": {},
     "output_type": "execute_result"
    }
   ],
   "source": [
    "with open(\"configure.txt\", 'r') as f:\n",
    "    content = f.readlines()\n",
    "\n",
    "strat_pos = content.index('loading\\n')\n",
    "content[strat_pos+1].split(',')"
   ]
  },
  {
   "cell_type": "code",
   "execution_count": 42,
   "metadata": {
    "ExecuteTime": {
     "end_time": "2019-05-12T10:14:34.596721Z",
     "start_time": "2019-05-12T10:14:34.591726Z"
    }
   },
   "outputs": [],
   "source": [
    "with open(\"configure.txt\", 'a') as f:\n",
    "    f.write()"
   ]
  },
  {
   "cell_type": "code",
   "execution_count": 42,
   "metadata": {
    "ExecuteTime": {
     "end_time": "2019-05-12T11:06:04.898514Z",
     "start_time": "2019-05-12T11:06:04.889520Z"
    }
   },
   "outputs": [
    {
     "data": {
      "text/plain": [
       "'F:\\\\jupyter\\\\pycharm\\\\keras_tutorial\\\\pyqt5_tool_demo\\\\ImageData\\\\'"
      ]
     },
     "execution_count": 42,
     "metadata": {},
     "output_type": "execute_result"
    }
   ],
   "source": [
    "\n",
    "path_letter = os.getcwd().split(\"\\\\\")[0:-1]\n",
    "path = \"\"\n",
    "for i in path_letter:\n",
    "    path = path + str(i) + str(\"\\\\\")\n",
    "path = path  + ImageData_path + str(\"\\\\\")\n",
    "        \n",
    "path + \"123\" + \".\" + 'bmp'"
   ]
  },
  {
   "cell_type": "code",
   "execution_count": 1,
   "metadata": {
    "ExecuteTime": {
     "end_time": "2019-05-12T13:48:57.516456Z",
     "start_time": "2019-05-12T13:48:44.682951Z"
    },
    "scrolled": true
   },
   "outputs": [
    {
     "name": "stdout",
     "output_type": "stream",
     "text": [
      "0 : bmp\n",
      "1 : jpg\n",
      "2 : jpeg\n",
      "3 : png\n",
      "请选择r\n",
      "请输入数字\n",
      "请选择r\n",
      "请输入数字\n",
      "请选择6\n",
      "请重新选择\n",
      "请选择0\n",
      "bmp\n"
     ]
    }
   ],
   "source": [
    "import pandas as pd\n",
    "model_name_content = pd.read_csv(\"./configure.csv\")\n",
    "model_name_dict = dict()\n",
    "\n",
    "for i, content in enumerate(list(model_name_content['img_type'])):\n",
    "    print(i, \":\", content)\n",
    "    model_name_dict[i] = content\n",
    "\n",
    "while 1:\n",
    "    try:\n",
    "        img_type_flag = int(eval(input(\"请选择\")))\n",
    "        break\n",
    "    except:\n",
    "        print(\"请输入数字\")\n",
    "while 1:\n",
    "    try:\n",
    "        if img_type_flag in list(model_name_dict.keys()):\n",
    "            # print(img_type_flag)\n",
    "            img_type = model_name_dict[img_type_flag]\n",
    "            print(img_type)\n",
    "            break\n",
    "        else:\n",
    "            print(\"请重新选择\")\n",
    "            img_type_flag = int(eval(input(\"请选择\")))\n",
    "    except:\n",
    "        print(\"重试\")\n"
   ]
  },
  {
   "cell_type": "code",
   "execution_count": 10,
   "metadata": {
    "ExecuteTime": {
     "end_time": "2019-05-12T12:15:24.788694Z",
     "start_time": "2019-05-12T12:15:24.782694Z"
    }
   },
   "outputs": [
    {
     "name": "stdout",
     "output_type": "stream",
     "text": [
      "F:\\jupyter\\pycharm\\keras_tutorial\\pyqt5_tool_demo\\ALcolor\n",
      "F:\\jupyter\\pycharm\\keras_tutorial\\pyqt5_tool_demo\\ALcolor\\modelPath\n"
     ]
    }
   ],
   "source": [
    "import os\n",
    "now_path = os.getcwd()\n",
    "print(now_path)\n",
    "modelDir = 'modelPath'\n",
    "if modelDir in os.listdir(now_path):\n",
    "    print(now_path+\"\\\\\"+modelDir)\n",
    "    "
   ]
  },
  {
   "cell_type": "code",
   "execution_count": 53,
   "metadata": {
    "ExecuteTime": {
     "end_time": "2019-05-12T12:32:45.149228Z",
     "start_time": "2019-05-12T12:32:45.138272Z"
    }
   },
   "outputs": [
    {
     "name": "stdout",
     "output_type": "stream",
     "text": [
      "F:\\jupyter\\pycharm\\keras_tutorial\\pyqt5_tool_demo\\ALcolor\n",
      "F:\\jupyter\\pycharm\\keras_tutorial\\pyqt5_tool_demo\\\n",
      "F:\\jupyter\\pycharm\\keras_tutorial\\pyqt5_tool_demo\\\n",
      "请检查路径是否存在\n"
     ]
    }
   ],
   "source": [
    "now_path = os.getcwd()\n",
    "modelDir = 'ImageData1'\n",
    "a = 1\n",
    "while not (modelDir in os.listdir(now_path)):\n",
    "    print(now_path)\n",
    "    a += 1\n",
    "    now_path = now_path.split(\"\\\\\")\n",
    "    # print(now_path)\n",
    "    path = now_path[0]\n",
    "    for i in now_path[1:-1]:\n",
    "        path = path + \"\\\\\" + i\n",
    "    path = path + '\\\\'\n",
    "    now_path = path\n",
    "    if a == 4:\n",
    "        print(\"请检查路径是否存在\")\n",
    "        break\n",
    "\n"
   ]
  },
  {
   "cell_type": "code",
   "execution_count": 96,
   "metadata": {
    "ExecuteTime": {
     "end_time": "2019-05-12T12:56:52.939679Z",
     "start_time": "2019-05-12T12:56:52.928683Z"
    }
   },
   "outputs": [
    {
     "name": "stdout",
     "output_type": "stream",
     "text": [
      "F:\\jupyter\\pycharm\\keras_tutorial\\pyqt5_tool_demo\\ALcolor\n",
      "['test.bmp', 'test.jpg']\n"
     ]
    }
   ],
   "source": [
    "now_path = os.getcwd()\n",
    "modelDir = 'ImageData'\n",
    "a = 1\n",
    "n = len(now_path.split(\"\\\\\"))\n",
    "while not (modelDir in os.listdir(now_path)):\n",
    "        print(now_path)\n",
    "        a += 1\n",
    "        n = len(now_path.split(\"\\\\\")[-1]) + 1\n",
    "        now_path = now_path[:-n]\n",
    "        if a == n-2:\n",
    "            break\n",
    "\n",
    "now_path = now_path + \"\\\\\"+modelDir            \n",
    "print(os.listdir(now_path))      "
   ]
  },
  {
   "cell_type": "code",
   "execution_count": 111,
   "metadata": {
    "ExecuteTime": {
     "end_time": "2019-05-12T13:00:20.327398Z",
     "start_time": "2019-05-12T13:00:20.312407Z"
    }
   },
   "outputs": [
    {
     "name": "stdout",
     "output_type": "stream",
     "text": [
      "1: F:\\jupyter\\pycharm\\keras_tutorial\\pyqt5_tool_demo\\ALcolor\n",
      "请检查图片路径 ImageData1 是否存在\n",
      "1: F:\\jupyter\\pycharm\\keras_tutorial\\pyqt5_tool_demo\n",
      "F:\\jupyter\\pycharm\\keras_tutorial\\pyqt5_tool_demo\\ALcolor\n"
     ]
    }
   ],
   "source": [
    "ImageData_path = 'ImageData1'\n",
    "Model_path = 'ModelPath'\n",
    "# 读取图片集路径\n",
    "now_path = os.getcwd()\n",
    "a = 1\n",
    "n = len(now_path.split(\"\\\\\"))\n",
    "while not (ImageData_path in os.listdir(now_path)):\n",
    "    print(\"1:\",now_path)\n",
    "    a += 1\n",
    "    n = len(now_path.split(\"\\\\\")[-1]) + 1\n",
    "    now_path = now_path[:-n]\n",
    "    if a == 2:\n",
    "        print(\"请检查图片路径 %s 是否存在\" % ImageData_path)\n",
    "        break\n",
    "        \n",
    "print(\"1:\", now_path)\n",
    "\n",
    "# 获取模型路径\n",
    "now_path = os.getcwd()\n",
    "a = 1\n",
    "n = len(now_path.split(\"\\\\\"))\n",
    "while not (Model_path in os.listdir(now_path)):\n",
    "    print(now_path)\n",
    "    a += 1\n",
    "    n = len(now_path.split(\"\\\\\")[-1]) + 1\n",
    "    now_path = now_path[:-n]\n",
    "    if a == n - 2:\n",
    "        print(\"请检查模型路径 %s 是否存在\" % Model_path)\n",
    "        break\n",
    "        \n",
    "print(now_path)"
   ]
  },
  {
   "cell_type": "code",
   "execution_count": 3,
   "metadata": {
    "ExecuteTime": {
     "end_time": "2019-05-12T13:58:15.924394Z",
     "start_time": "2019-05-12T13:58:09.895687Z"
    }
   },
   "outputs": [
    {
     "name": "stdout",
     "output_type": "stream",
     "text": [
      "F:\\jupyter\\pycharm\\keras_tutorial\\pyqt5_tool_demo\\ALcolor\n",
      "F:\\jupyter\\pycharm\\keras_tutorial\\pyqt5_tool_demo\\ALcolor\n"
     ]
    },
    {
     "ename": "KeyboardInterrupt",
     "evalue": "",
     "output_type": "error",
     "traceback": [
      "\u001b[1;31m---------------------------------------------------------------------------\u001b[0m",
      "\u001b[1;31mKeyboardInterrupt\u001b[0m                         Traceback (most recent call last)",
      "\u001b[1;32m<ipython-input-3-23a1cd4f37eb>\u001b[0m in \u001b[0;36m<module>\u001b[1;34m\u001b[0m\n\u001b[0;32m      3\u001b[0m \u001b[0mnow_path\u001b[0m \u001b[1;33m=\u001b[0m \u001b[0mos\u001b[0m\u001b[1;33m.\u001b[0m\u001b[0mgetcwd\u001b[0m\u001b[1;33m(\u001b[0m\u001b[1;33m)\u001b[0m\u001b[1;33m\u001b[0m\u001b[0m\n\u001b[0;32m      4\u001b[0m \u001b[1;32mwhile\u001b[0m \u001b[1;36m1\u001b[0m\u001b[1;33m:\u001b[0m\u001b[1;33m\u001b[0m\u001b[0m\n\u001b[1;32m----> 5\u001b[1;33m     \u001b[0mtime\u001b[0m\u001b[1;33m.\u001b[0m\u001b[0msleep\u001b[0m\u001b[1;33m(\u001b[0m\u001b[1;36m2\u001b[0m\u001b[1;33m)\u001b[0m\u001b[1;33m\u001b[0m\u001b[0m\n\u001b[0m\u001b[0;32m      6\u001b[0m     \u001b[0mprint\u001b[0m\u001b[1;33m(\u001b[0m\u001b[0mnow_path\u001b[0m\u001b[1;33m)\u001b[0m\u001b[1;33m\u001b[0m\u001b[0m\n",
      "\u001b[1;31mKeyboardInterrupt\u001b[0m: "
     ]
    }
   ],
   "source": [
    "import os\n",
    "import time\n",
    "now_path = os.getcwd()\n",
    "while 1:\n",
    "    time.sleep(2)\n",
    "    print(now_path)"
   ]
  },
  {
   "cell_type": "code",
   "execution_count": 1,
   "metadata": {
    "ExecuteTime": {
     "end_time": "2019-05-12T14:10:57.621271Z",
     "start_time": "2019-05-12T14:10:47.738802Z"
    }
   },
   "outputs": [
    {
     "name": "stdout",
     "output_type": "stream",
     "text": [
      "q\n",
      "请检查模型路径 q 是否存在\n",
      "F:\\jupyter\\Ruby\\ F:\\q\\\n",
      "F:\\jupyter\\Ruby\\ F:\\q\\\n",
      "F:\\jupyter\\Ruby\\ F:\\q\\\n"
     ]
    },
    {
     "ename": "KeyboardInterrupt",
     "evalue": "",
     "output_type": "error",
     "traceback": [
      "\u001b[1;31m---------------------------------------------------------------------------\u001b[0m",
      "\u001b[1;31mKeyboardInterrupt\u001b[0m                         Traceback (most recent call last)",
      "\u001b[1;32m<ipython-input-1-a62f0b85884b>\u001b[0m in \u001b[0;36m<module>\u001b[1;34m\u001b[0m\n\u001b[0;32m     37\u001b[0m \u001b[0mmodel_path\u001b[0m \u001b[1;33m=\u001b[0m \u001b[0mmodel_path\u001b[0m \u001b[1;33m+\u001b[0m \u001b[1;34m\"\\\\\"\u001b[0m \u001b[1;33m+\u001b[0m \u001b[0mModel_path\u001b[0m \u001b[1;33m+\u001b[0m \u001b[1;34m\"\\\\\"\u001b[0m\u001b[1;33m\u001b[0m\u001b[0m\n\u001b[0;32m     38\u001b[0m \u001b[1;32mwhile\u001b[0m \u001b[1;36m1\u001b[0m\u001b[1;33m:\u001b[0m\u001b[1;33m\u001b[0m\u001b[0m\n\u001b[1;32m---> 39\u001b[1;33m     \u001b[0mtime\u001b[0m\u001b[1;33m.\u001b[0m\u001b[0msleep\u001b[0m\u001b[1;33m(\u001b[0m\u001b[1;36m2\u001b[0m\u001b[1;33m)\u001b[0m\u001b[1;33m\u001b[0m\u001b[0m\n\u001b[0m\u001b[0;32m     40\u001b[0m     \u001b[0mprint\u001b[0m\u001b[1;33m(\u001b[0m\u001b[0mpath\u001b[0m\u001b[1;33m,\u001b[0m \u001b[0mmodel_path\u001b[0m\u001b[1;33m)\u001b[0m\u001b[1;33m\u001b[0m\u001b[0m\n",
      "\u001b[1;31mKeyboardInterrupt\u001b[0m: "
     ]
    }
   ],
   "source": [
    "# !/usr/bin/python3\n",
    "\n",
    "# coding = utf-8\n",
    "import os\n",
    "import time\n",
    "\n",
    "ImageData_path = 'Ruby'\n",
    "Model_path = input()#'Ruby'\n",
    "# 读取图片集路径\n",
    "now_path = os.getcwd()\n",
    "a = 1\n",
    "n = len(now_path.split(\"\\\\\"))\n",
    "while not (ImageData_path in os.listdir(now_path)):\n",
    "    #print(\"1:\", now_path)\n",
    "    a += 1\n",
    "    n = len(now_path.split(\"\\\\\")[-1]) + 1\n",
    "    now_path = now_path[:-n]\n",
    "    if a == n-2:\n",
    "        print(\"请检查图片路径 %s 是否存在\" % ImageData_path)\n",
    "        break\n",
    "path = now_path + \"\\\\\" + ImageData_path + str(\"\\\\\") # 图片的路径，当前路径找不到，会一直往上找\n",
    "#print(\"图片路径：\", path)\n",
    "\n",
    "\n",
    "# 获取模型路径 当前路径找不到，会一直往上找\n",
    "model_path = os.getcwd()\n",
    "a = 1\n",
    "n = len(model_path.split(\"\\\\\"))\n",
    "while not (Model_path in os.listdir(model_path)):\n",
    "    #print(now_path)\n",
    "    a += 1\n",
    "    n = len(model_path.split(\"\\\\\")[-1]) + 1\n",
    "    model_path = model_path[:-n]\n",
    "    if a == n - 2:\n",
    "        print(\"请检查模型路径 %s 是否存在\" % Model_path)\n",
    "        break\n",
    "model_path = model_path + \"\\\\\" + Model_path + \"\\\\\"\n",
    "while 1:\n",
    "    time.sleep(2)\n",
    "    print(path, model_path)"
   ]
  },
  {
   "cell_type": "code",
   "execution_count": 2,
   "metadata": {
    "ExecuteTime": {
     "end_time": "2019-05-13T11:36:16.500898Z",
     "start_time": "2019-05-13T11:36:16.496900Z"
    }
   },
   "outputs": [],
   "source": [
    "import keras\n",
    "from keras.models import load_model"
   ]
  },
  {
   "cell_type": "code",
   "execution_count": 3,
   "metadata": {
    "ExecuteTime": {
     "end_time": "2019-05-13T11:36:37.709739Z",
     "start_time": "2019-05-13T11:36:36.242576Z"
    }
   },
   "outputs": [
    {
     "name": "stdout",
     "output_type": "stream",
     "text": [
      "_________________________________________________________________\n",
      "Layer (type)                 Output Shape              Param #   \n",
      "=================================================================\n",
      "conv2d_1 (Conv2D)            (None, 75, 75, 32)        2432      \n",
      "_________________________________________________________________\n",
      "max_pooling2d_1 (MaxPooling2 (None, 37, 37, 32)        0         \n",
      "_________________________________________________________________\n",
      "conv2d_2 (Conv2D)            (None, 37, 37, 32)        9248      \n",
      "_________________________________________________________________\n",
      "max_pooling2d_2 (MaxPooling2 (None, 18, 18, 32)        0         \n",
      "_________________________________________________________________\n",
      "conv2d_3 (Conv2D)            (None, 18, 18, 64)        18496     \n",
      "_________________________________________________________________\n",
      "max_pooling2d_3 (MaxPooling2 (None, 9, 9, 64)          0         \n",
      "_________________________________________________________________\n",
      "conv2d_4 (Conv2D)            (None, 9, 9, 64)          36928     \n",
      "_________________________________________________________________\n",
      "max_pooling2d_4 (MaxPooling2 (None, 4, 4, 64)          0         \n",
      "_________________________________________________________________\n",
      "conv2d_5 (Conv2D)            (None, 2, 2, 128)         73856     \n",
      "_________________________________________________________________\n",
      "max_pooling2d_5 (MaxPooling2 (None, 1, 1, 128)         0         \n",
      "_________________________________________________________________\n",
      "flatten_1 (Flatten)          (None, 128)               0         \n",
      "_________________________________________________________________\n",
      "dropout_1 (Dropout)          (None, 128)               0         \n",
      "_________________________________________________________________\n",
      "dense_1 (Dense)              (None, 999)               128871    \n",
      "_________________________________________________________________\n",
      "dense_2 (Dense)              (None, 3)                 3000      \n",
      "=================================================================\n",
      "Total params: 272,831\n",
      "Trainable params: 272,831\n",
      "Non-trainable params: 0\n",
      "_________________________________________________________________\n"
     ]
    }
   ],
   "source": [
    "model = load_model(\"./ModelPath/1555812970.2107625.h5\")\n",
    "model.summary()"
   ]
  },
  {
   "cell_type": "code",
   "execution_count": 45,
   "metadata": {
    "ExecuteTime": {
     "end_time": "2019-05-14T02:21:40.379194Z",
     "start_time": "2019-05-14T02:21:36.359929Z"
    }
   },
   "outputs": [
    {
     "name": "stdout",
     "output_type": "stream",
     "text": [
      "111\n",
      "111\n"
     ]
    },
    {
     "ename": "KeyboardInterrupt",
     "evalue": "",
     "output_type": "error",
     "traceback": [
      "\u001b[1;31m---------------------------------------------------------------------------\u001b[0m",
      "\u001b[1;31mKeyboardInterrupt\u001b[0m                         Traceback (most recent call last)",
      "\u001b[1;32m<ipython-input-45-ed34e0fbddca>\u001b[0m in \u001b[0;36m<module>\u001b[1;34m\u001b[0m\n\u001b[0;32m      8\u001b[0m \u001b[1;31m#configure_content = pd.read_csv(\"configure.csv\")\u001b[0m\u001b[1;33m\u001b[0m\u001b[1;33m\u001b[0m\u001b[0m\n\u001b[0;32m      9\u001b[0m \u001b[1;32mwhile\u001b[0m \u001b[1;36m1\u001b[0m\u001b[1;33m:\u001b[0m\u001b[1;33m\u001b[0m\u001b[0m\n\u001b[1;32m---> 10\u001b[1;33m     \u001b[0mtime\u001b[0m\u001b[1;33m.\u001b[0m\u001b[0msleep\u001b[0m\u001b[1;33m(\u001b[0m\u001b[1;36m2\u001b[0m\u001b[1;33m)\u001b[0m\u001b[1;33m\u001b[0m\u001b[0m\n\u001b[0m\u001b[0;32m     11\u001b[0m     \u001b[0mprint\u001b[0m\u001b[1;33m(\u001b[0m\u001b[1;34m\"111\"\u001b[0m\u001b[1;33m)\u001b[0m\u001b[1;33m\u001b[0m\u001b[0m\n\u001b[0;32m     12\u001b[0m     \u001b[1;31m#print(configure_content)\u001b[0m\u001b[1;33m\u001b[0m\u001b[1;33m\u001b[0m\u001b[0m\n",
      "\u001b[1;31mKeyboardInterrupt\u001b[0m: "
     ]
    }
   ],
   "source": [
    "import os\n",
    "import pandas as pd\n",
    "import time\n",
    "#configure_file = 'configure.csv'\n",
    "#configure_path = os.getcwd() + \"\\\\\" + configure_file\n",
    "#os.path.exists(configure_path)\n",
    "print(\"111\")\n",
    "#configure_content = pd.read_csv(\"configure.csv\")\n",
    "while 1:\n",
    "    time.sleep(2)\n",
    "    print(\"111\")\n",
    "    #print(configure_content)"
   ]
  },
  {
   "cell_type": "code",
   "execution_count": 5,
   "metadata": {
    "ExecuteTime": {
     "end_time": "2019-05-14T12:11:59.856584Z",
     "start_time": "2019-05-14T12:11:59.783627Z"
    }
   },
   "outputs": [
    {
     "name": "stdout",
     "output_type": "stream",
     "text": [
      "               ip img_type                  model  img_size color_code\n",
      "0  127.0.0.1:2019      bmp    20190422_model_1.h5     150.0      RO_SP\n",
      "1             NaN      jpg  1555812970.2107625.h5     150.0      RO_RD\n",
      "2             NaN     jpeg                    NaN       NaN      RO_LB\n",
      "3             NaN      png                    NaN       NaN      RO_WH\n",
      "4             NaN      NaN                    NaN       NaN      RO_EG\n",
      "5             NaN      NaN                    NaN       NaN      RO_MN\n",
      "6             NaN      NaN                    NaN       NaN      RO_UC\n"
     ]
    }
   ],
   "source": [
    "import os\n",
    "import pandas as pd\n",
    "import time\n",
    "#configure_file = 'configure.csv'\n",
    "#configure_path = os.getcwd() + \"\\\\\" + configure_file\n",
    "#os.path.exists(configure_path)\n",
    "\n",
    "configure_content = pd.read_csv(\"configure.csv\")\n",
    "\n",
    "\n",
    "print(configure_content)"
   ]
  },
  {
   "cell_type": "code",
   "execution_count": 10,
   "metadata": {
    "ExecuteTime": {
     "end_time": "2019-05-13T12:08:32.596987Z",
     "start_time": "2019-05-13T12:08:31.109438Z"
    }
   },
   "outputs": [
    {
     "name": "stdout",
     "output_type": "stream",
     "text": [
      "0 : 127.0.0.1:2019\n",
      "请选择0\n",
      "所选的服务器为：127.0.0.1:2019\n"
     ]
    }
   ],
   "source": [
    "server_dict = dict()\n",
    "for i, content in enumerate(list(configure_content['ip'])):\n",
    "    if type(content) != float:\n",
    "        print(i, \":\", content)\n",
    "        server_dict[i] = content\n",
    "\n",
    "while 1:\n",
    "    try:\n",
    "        server_flag = int(eval(input(\"请选择\")))\n",
    "        break\n",
    "    except:\n",
    "        print(\"请输入数字\")\n",
    "\n",
    "while server_flag not in list(server_dict.keys()):\n",
    "    try:\n",
    "        print(\"请重新选择\")\n",
    "        server_flag = int(eval(input(\"请选择\"))) # 这边有个 bug，同理在图片类型选择程序中也有\n",
    "    except:\n",
    "        print(\"重试\")\n",
    "\n",
    "ip = server_dict[server_flag]\n",
    "print(\"所选的服务器为：%s\" % ip)"
   ]
  },
  {
   "cell_type": "code",
   "execution_count": 14,
   "metadata": {
    "ExecuteTime": {
     "end_time": "2019-05-13T12:11:57.407263Z",
     "start_time": "2019-05-13T12:11:45.593384Z"
    }
   },
   "outputs": [
    {
     "name": "stdout",
     "output_type": "stream",
     "text": [
      "0 : 20190422_model_1.h5\n",
      "1 : 1555812970.2107625.h5\n",
      "请选择r\n",
      "请输入数字\n",
      "请选择3\n",
      "请重新选择\n",
      "请选择e\n",
      "重试\n",
      "请重新选择\n",
      "请选择4\n",
      "请重新选择\n",
      "请选择1\n",
      "所选模型为：1555812970.2107625.h5\n"
     ]
    }
   ],
   "source": [
    "model_dict = dict()\n",
    "for i, content in enumerate(list(configure_content['model'])):\n",
    "    if type(content) != float:\n",
    "        print(i, \":\", content)\n",
    "        model_dict[i] = content\n",
    "        \n",
    "while 1:\n",
    "    try:\n",
    "        model_name_flag = int(eval(input(\"请选择\")))\n",
    "        break\n",
    "    except:\n",
    "        print(\"请输入数字\")\n",
    "\n",
    "        \n",
    "        \n",
    "while model_name_flag in list(model_dict.keys())s:\n",
    "    try:\n",
    "        print(\"请重新选择\")\n",
    "        model_name_flag = int(eval(input(\"请选择\"))) \n",
    "\n",
    "    except:\n",
    "        print(\"重试\")\n",
    "model_name = server_dict[model_name_flag]\n",
    "print(\"所选的服务器为：%s\" % model_name)"
   ]
  },
  {
   "cell_type": "code",
   "execution_count": null,
   "metadata": {},
   "outputs": [],
   "source": []
  },
  {
   "cell_type": "code",
   "execution_count": 16,
   "metadata": {
    "ExecuteTime": {
     "end_time": "2019-05-13T12:16:27.258960Z",
     "start_time": "2019-05-13T12:16:14.595422Z"
    }
   },
   "outputs": [
    {
     "name": "stdout",
     "output_type": "stream",
     "text": [
      "请选择本次识别图像的类型\n",
      "0 : 20190422_model_1.h5\n",
      "1 : 1555812970.2107625.h5\n",
      "请选择e\n",
      "请输入数字\n",
      "请选择e\n",
      "请输入数字\n",
      "请选择e\n",
      "请输入数字\n",
      "请选择e\n",
      "请输入数字\n",
      "请选择e\n",
      "请输入数字\n",
      "请选择4\n",
      "请重新选择\n",
      "请选择1\n",
      "所选模型为：1555812970.2107625.h5\n"
     ]
    }
   ],
   "source": [
    "#print(\"数据集文件名为 ImageData：\")\n",
    "print(\"请选择本次识别图像的类型\")\n",
    "img_type_dict = dict()\n",
    "for i, content in enumerate(list(configure_content['model'])):\n",
    "    if type(content) != float:\n",
    "        print(i, \":\", content)\n",
    "        img_type_dict[i] = content\n",
    "        \n",
    "while 1:\n",
    "    try:\n",
    "        img_type_flag = int(eval(input(\"请选择\")))\n",
    "        break\n",
    "    except:\n",
    "        print(\"请输入数字\")\n",
    "\n",
    "        \n",
    "        \n",
    "while img_type_flag not in list(img_type_dict.keys()):\n",
    "    try:\n",
    "        print(\"请重新选择\")\n",
    "        img_type_flag = int(eval(input(\"请选择\"))) \n",
    "\n",
    "    except:\n",
    "        print(\"重试\")\n",
    "        \n",
    "img_type = img_type_dict[img_type_flag]\n",
    "print(\"所选图片格式为：%s\" % img_type)"
   ]
  },
  {
   "cell_type": "code",
   "execution_count": 26,
   "metadata": {
    "ExecuteTime": {
     "end_time": "2019-05-13T12:38:47.529205Z",
     "start_time": "2019-05-13T12:38:47.519209Z"
    }
   },
   "outputs": [
    {
     "data": {
      "text/plain": [
       "'{\"CommandHandler\": \"AIColor\", \"CommandName\": \"ColorChecked\", \"ParamJson\": {\"FileName\": \"X112212334456\", \"Wood\": \"RO\", \"ColorCode\": \"RO_RD\", \"Result\": \"a\"}}'"
      ]
     },
     "execution_count": 26,
     "metadata": {},
     "output_type": "execute_result"
    }
   ],
   "source": [
    "import json\n",
    "result = 'a'\n",
    "ColorResult = {\n",
    "    'CommandHandler': \"AIColor\",\n",
    "    'CommandName': \"ColorChecked\",\n",
    "    'ParamJson': {\n",
    "        'FileName': \"X112212334456\",\n",
    "        'Wood': \"RO\",\n",
    "        'ColorCode': \"RO_RD\",\n",
    "        'Result': \"\"\n",
    "    }\n",
    "}\n",
    "ColorResult['ParamJson']['Result'] = result \n",
    "json.dumps(ColorResult)"
   ]
  },
  {
   "cell_type": "code",
   "execution_count": 27,
   "metadata": {
    "ExecuteTime": {
     "end_time": "2019-05-13T12:39:42.997498Z",
     "start_time": "2019-05-13T12:39:42.985468Z"
    }
   },
   "outputs": [],
   "source": [
    "json.loads?"
   ]
  },
  {
   "cell_type": "code",
   "execution_count": 31,
   "metadata": {
    "ExecuteTime": {
     "end_time": "2019-05-13T13:01:01.126115Z",
     "start_time": "2019-05-13T13:00:57.109813Z"
    }
   },
   "outputs": [
    {
     "name": "stdout",
     "output_type": "stream",
     "text": [
      "你好\n",
      "你好\n",
      "你好\n"
     ]
    },
    {
     "ename": "KeyboardInterrupt",
     "evalue": "",
     "output_type": "error",
     "traceback": [
      "\u001b[1;31m---------------------------------------------------------------------------\u001b[0m",
      "\u001b[1;31mKeyboardInterrupt\u001b[0m                         Traceback (most recent call last)",
      "\u001b[1;32m<ipython-input-31-d68dcf25efa3>\u001b[0m in \u001b[0;36m<module>\u001b[1;34m\u001b[0m\n\u001b[0;32m      2\u001b[0m \u001b[1;33m\u001b[0m\u001b[0m\n\u001b[0;32m      3\u001b[0m \u001b[1;32mwhile\u001b[0m \u001b[1;36m1\u001b[0m\u001b[1;33m:\u001b[0m\u001b[1;33m\u001b[0m\u001b[0m\n\u001b[1;32m----> 4\u001b[1;33m     \u001b[0mtime\u001b[0m\u001b[1;33m.\u001b[0m\u001b[0msleep\u001b[0m\u001b[1;33m(\u001b[0m\u001b[1;36m1\u001b[0m\u001b[1;33m)\u001b[0m\u001b[1;33m\u001b[0m\u001b[0m\n\u001b[0m\u001b[0;32m      5\u001b[0m     \u001b[0mprint\u001b[0m\u001b[1;33m(\u001b[0m\u001b[1;34m\"你好\"\u001b[0m\u001b[1;33m)\u001b[0m\u001b[1;33m\u001b[0m\u001b[0m\n",
      "\u001b[1;31mKeyboardInterrupt\u001b[0m: "
     ]
    }
   ],
   "source": [
    "import time\n",
    "\n",
    "while 1:\n",
    "    time.sleep(1)\n",
    "    print(\"你好\")"
   ]
  },
  {
   "cell_type": "code",
   "execution_count": 37,
   "metadata": {
    "ExecuteTime": {
     "end_time": "2019-05-13T13:58:40.338567Z",
     "start_time": "2019-05-13T13:58:33.684478Z"
    }
   },
   "outputs": [
    {
     "name": "stdout",
     "output_type": "stream",
     "text": [
      "Ruby\n",
      "F:\\jupyter\\Ruby\\\n"
     ]
    },
    {
     "ename": "KeyboardInterrupt",
     "evalue": "",
     "output_type": "error",
     "traceback": [
      "\u001b[1;31m---------------------------------------------------------------------------\u001b[0m",
      "\u001b[1;31mKeyboardInterrupt\u001b[0m                         Traceback (most recent call last)",
      "\u001b[1;32m<ipython-input-37-441b4e4af241>\u001b[0m in \u001b[0;36m<module>\u001b[1;34m\u001b[0m\n\u001b[0;32m     20\u001b[0m \u001b[0mpath\u001b[0m \u001b[1;33m=\u001b[0m \u001b[0mnow_path\u001b[0m \u001b[1;33m+\u001b[0m \u001b[1;34m\"\\\\\"\u001b[0m \u001b[1;33m+\u001b[0m \u001b[0mImageData_path\u001b[0m \u001b[1;33m+\u001b[0m \u001b[0mstr\u001b[0m\u001b[1;33m(\u001b[0m\u001b[1;34m\"\\\\\"\u001b[0m\u001b[1;33m)\u001b[0m  \u001b[1;31m# 图片的路径，当前路径找不到，会一直往上找\u001b[0m\u001b[1;33m\u001b[0m\u001b[0m\n\u001b[0;32m     21\u001b[0m \u001b[1;32mwhile\u001b[0m \u001b[1;36m1\u001b[0m\u001b[1;33m:\u001b[0m\u001b[1;33m\u001b[0m\u001b[0m\n\u001b[1;32m---> 22\u001b[1;33m     \u001b[0mtime\u001b[0m\u001b[1;33m.\u001b[0m\u001b[0msleep\u001b[0m\u001b[1;33m(\u001b[0m\u001b[1;36m2\u001b[0m\u001b[1;33m)\u001b[0m\u001b[1;33m\u001b[0m\u001b[0m\n\u001b[0m\u001b[0;32m     23\u001b[0m     \u001b[0mprint\u001b[0m\u001b[1;33m(\u001b[0m\u001b[0mpath\u001b[0m\u001b[1;33m)\u001b[0m\u001b[1;33m\u001b[0m\u001b[0m\n",
      "\u001b[1;31mKeyboardInterrupt\u001b[0m: "
     ]
    }
   ],
   "source": [
    "import os,time\n",
    "ImageData_path = input()\n",
    "now_path = os.getcwd()\n",
    "print(now_path)\n",
    "a = 1\n",
    "n = len(now_path.split(\"\\\\\"))\n",
    "while not (ImageData_path in os.listdir(now_path)):\n",
    "    # print(\"1:\", now_path)\n",
    "    a += 1\n",
    "    n = len(now_path.split(\"\\\\\")[-1]) + 1\n",
    "    now_path = now_path[:-n]\n",
    "    if a == n - 2:\n",
    "        print(\"请检查图片路径 %s 是否存在\" % ImageData_path)\n",
    "        print(\"系统 5s 后退出...\")\n",
    "        time.sleep(5)\n",
    "        try:\n",
    "            os._exit(0)\n",
    "        except BaseException:\n",
    "            print('Program is dead.')\n",
    "            \n",
    "path = now_path + \"\\\\\" + ImageData_path + str(\"\\\\\")  # 图片的路径，当前路径找不到，会一直往上找\n",
    "while 1:\n",
    "    time.sleep(2)\n",
    "    print(path)"
   ]
  },
  {
   "cell_type": "code",
   "execution_count": 39,
   "metadata": {
    "ExecuteTime": {
     "end_time": "2019-05-14T01:45:48.921761Z",
     "start_time": "2019-05-14T01:45:38.778536Z"
    }
   },
   "outputs": [
    {
     "name": "stdout",
     "output_type": "stream",
     "text": [
      "_________________________________________________________________\n",
      "Layer (type)                 Output Shape              Param #   \n",
      "=================================================================\n",
      "conv2d_1 (Conv2D)            (None, 75, 75, 32)        2432      \n",
      "_________________________________________________________________\n",
      "max_pooling2d_1 (MaxPooling2 (None, 37, 37, 32)        0         \n",
      "_________________________________________________________________\n",
      "conv2d_2 (Conv2D)            (None, 37, 37, 32)        9248      \n",
      "_________________________________________________________________\n",
      "max_pooling2d_2 (MaxPooling2 (None, 18, 18, 32)        0         \n",
      "_________________________________________________________________\n",
      "conv2d_3 (Conv2D)            (None, 18, 18, 64)        18496     \n",
      "_________________________________________________________________\n",
      "max_pooling2d_3 (MaxPooling2 (None, 9, 9, 64)          0         \n",
      "_________________________________________________________________\n",
      "conv2d_4 (Conv2D)            (None, 9, 9, 64)          36928     \n",
      "_________________________________________________________________\n",
      "max_pooling2d_4 (MaxPooling2 (None, 4, 4, 64)          0         \n",
      "_________________________________________________________________\n",
      "conv2d_5 (Conv2D)            (None, 2, 2, 128)         73856     \n",
      "_________________________________________________________________\n",
      "max_pooling2d_5 (MaxPooling2 (None, 1, 1, 128)         0         \n",
      "_________________________________________________________________\n",
      "flatten_1 (Flatten)          (None, 128)               0         \n",
      "_________________________________________________________________\n",
      "dropout_1 (Dropout)          (None, 128)               0         \n",
      "_________________________________________________________________\n",
      "dense_1 (Dense)              (None, 999)               128871    \n",
      "_________________________________________________________________\n",
      "dense_2 (Dense)              (None, 3)                 3000      \n",
      "=================================================================\n",
      "Total params: 272,831\n",
      "Trainable params: 272,831\n",
      "Non-trainable params: 0\n",
      "_________________________________________________________________\n",
      "None\n",
      "_________________________________________________________________\n",
      "Layer (type)                 Output Shape              Param #   \n",
      "=================================================================\n",
      "conv2d_1 (Conv2D)            (None, 75, 75, 32)        2432      \n",
      "_________________________________________________________________\n",
      "max_pooling2d_1 (MaxPooling2 (None, 37, 37, 32)        0         \n",
      "_________________________________________________________________\n",
      "conv2d_2 (Conv2D)            (None, 37, 37, 32)        9248      \n",
      "_________________________________________________________________\n",
      "max_pooling2d_2 (MaxPooling2 (None, 18, 18, 32)        0         \n",
      "_________________________________________________________________\n",
      "conv2d_3 (Conv2D)            (None, 18, 18, 64)        18496     \n",
      "_________________________________________________________________\n",
      "max_pooling2d_3 (MaxPooling2 (None, 9, 9, 64)          0         \n",
      "_________________________________________________________________\n",
      "conv2d_4 (Conv2D)            (None, 9, 9, 64)          36928     \n",
      "_________________________________________________________________\n",
      "max_pooling2d_4 (MaxPooling2 (None, 4, 4, 64)          0         \n",
      "_________________________________________________________________\n",
      "conv2d_5 (Conv2D)            (None, 2, 2, 128)         73856     \n",
      "_________________________________________________________________\n",
      "max_pooling2d_5 (MaxPooling2 (None, 1, 1, 128)         0         \n",
      "_________________________________________________________________\n",
      "flatten_1 (Flatten)          (None, 128)               0         \n",
      "_________________________________________________________________\n",
      "dropout_1 (Dropout)          (None, 128)               0         \n",
      "_________________________________________________________________\n",
      "dense_1 (Dense)              (None, 999)               128871    \n",
      "_________________________________________________________________\n",
      "dense_2 (Dense)              (None, 3)                 3000      \n",
      "=================================================================\n",
      "Total params: 272,831\n",
      "Trainable params: 272,831\n",
      "Non-trainable params: 0\n",
      "_________________________________________________________________\n",
      "None\n",
      "_________________________________________________________________\n",
      "Layer (type)                 Output Shape              Param #   \n",
      "=================================================================\n",
      "conv2d_1 (Conv2D)            (None, 75, 75, 32)        2432      \n",
      "_________________________________________________________________\n",
      "max_pooling2d_1 (MaxPooling2 (None, 37, 37, 32)        0         \n",
      "_________________________________________________________________\n",
      "conv2d_2 (Conv2D)            (None, 37, 37, 32)        9248      \n",
      "_________________________________________________________________\n",
      "max_pooling2d_2 (MaxPooling2 (None, 18, 18, 32)        0         \n",
      "_________________________________________________________________\n",
      "conv2d_3 (Conv2D)            (None, 18, 18, 64)        18496     \n",
      "_________________________________________________________________\n",
      "max_pooling2d_3 (MaxPooling2 (None, 9, 9, 64)          0         \n",
      "_________________________________________________________________\n",
      "conv2d_4 (Conv2D)            (None, 9, 9, 64)          36928     \n",
      "_________________________________________________________________\n",
      "max_pooling2d_4 (MaxPooling2 (None, 4, 4, 64)          0         \n",
      "_________________________________________________________________\n",
      "conv2d_5 (Conv2D)            (None, 2, 2, 128)         73856     \n",
      "_________________________________________________________________\n",
      "max_pooling2d_5 (MaxPooling2 (None, 1, 1, 128)         0         \n",
      "_________________________________________________________________\n",
      "flatten_1 (Flatten)          (None, 128)               0         \n",
      "_________________________________________________________________\n",
      "dropout_1 (Dropout)          (None, 128)               0         \n",
      "_________________________________________________________________\n",
      "dense_1 (Dense)              (None, 999)               128871    \n",
      "_________________________________________________________________\n",
      "dense_2 (Dense)              (None, 3)                 3000      \n",
      "=================================================================\n",
      "Total params: 272,831\n",
      "Trainable params: 272,831\n",
      "Non-trainable params: 0\n",
      "_________________________________________________________________\n",
      "None\n"
     ]
    },
    {
     "name": "stderr",
     "output_type": "stream",
     "text": [
      "ERROR:root:Internal Python error in the inspect module.\n",
      "Below is the traceback from this internal error.\n",
      "\n"
     ]
    },
    {
     "name": "stdout",
     "output_type": "stream",
     "text": [
      "Traceback (most recent call last):\n",
      "  File \"C:\\Anaconda3\\lib\\site-packages\\IPython\\core\\interactiveshell.py\", line 3265, in run_code\n",
      "    exec(code_obj, self.user_global_ns, self.user_ns)\n",
      "  File \"<ipython-input-39-1dda51b28ad0>\", line 5, in <module>\n",
      "    time.sleep(2)\n",
      "KeyboardInterrupt\n",
      "\n",
      "During handling of the above exception, another exception occurred:\n",
      "\n",
      "Traceback (most recent call last):\n",
      "  File \"C:\\Anaconda3\\lib\\site-packages\\IPython\\core\\interactiveshell.py\", line 2016, in showtraceback\n",
      "    stb = value._render_traceback_()\n",
      "AttributeError: 'KeyboardInterrupt' object has no attribute '_render_traceback_'\n",
      "\n",
      "During handling of the above exception, another exception occurred:\n",
      "\n",
      "Traceback (most recent call last):\n",
      "  File \"C:\\Anaconda3\\lib\\site-packages\\IPython\\core\\ultratb.py\", line 1095, in get_records\n",
      "    return _fixed_getinnerframes(etb, number_of_lines_of_context, tb_offset)\n",
      "  File \"C:\\Anaconda3\\lib\\site-packages\\IPython\\core\\ultratb.py\", line 313, in wrapped\n",
      "    return f(*args, **kwargs)\n",
      "  File \"C:\\Anaconda3\\lib\\site-packages\\IPython\\core\\ultratb.py\", line 347, in _fixed_getinnerframes\n",
      "    records = fix_frame_records_filenames(inspect.getinnerframes(etb, context))\n",
      "  File \"C:\\Anaconda3\\lib\\inspect.py\", line 1483, in getinnerframes\n",
      "    frameinfo = (tb.tb_frame,) + getframeinfo(tb, context)\n",
      "  File \"C:\\Anaconda3\\lib\\inspect.py\", line 1441, in getframeinfo\n",
      "    filename = getsourcefile(frame) or getfile(frame)\n",
      "  File \"C:\\Anaconda3\\lib\\inspect.py\", line 696, in getsourcefile\n",
      "    if getattr(getmodule(object, filename), '__loader__', None) is not None:\n",
      "  File \"C:\\Anaconda3\\lib\\inspect.py\", line 739, in getmodule\n",
      "    f = getabsfile(module)\n",
      "  File \"C:\\Anaconda3\\lib\\inspect.py\", line 708, in getabsfile\n",
      "    _filename = getsourcefile(object) or getfile(object)\n",
      "  File \"C:\\Anaconda3\\lib\\inspect.py\", line 693, in getsourcefile\n",
      "    if os.path.exists(filename):\n",
      "  File \"C:\\Anaconda3\\lib\\genericpath.py\", line 19, in exists\n",
      "    os.stat(path)\n",
      "KeyboardInterrupt\n"
     ]
    },
    {
     "ename": "KeyboardInterrupt",
     "evalue": "",
     "output_type": "error",
     "traceback": [
      "\u001b[1;31m---------------------------------------------------------------------------\u001b[0m"
     ]
    }
   ],
   "source": [
    "from keras.models import load_model\n",
    "import time\n",
    "model = load_model(\"./ModelPath1/1555812970.2107625.h5\")\n",
    "while(1):\n",
    "    time.sleep(2)\n",
    "    print(model.summary())\n",
    "\n"
   ]
  },
  {
   "cell_type": "code",
   "execution_count": 3,
   "metadata": {
    "ExecuteTime": {
     "end_time": "2019-05-14T10:03:28.267761Z",
     "start_time": "2019-05-14T09:53:42.830236Z"
    }
   },
   "outputs": [
    {
     "name": "stdout",
     "output_type": "stream",
     "text": [
      "thread terminating...\n",
      "{\"success\":\"true\",\"msg\":{\"CommandName\":\"RegistAIComm\",\"Msg\":\"Registed success\"}}\n",
      "{\"CommandHandler\": \"AIColor\", \"CommandName\": \"ColorChecked\", \"ParamJson\": {\"FileName\": \"1-61\", \"Wood\": \"RO\", \"ColorCode\": \"RO_LB\"}}\n",
      "[WinError 10054] 远程主机强迫关闭了一个现有的连接。\n",
      "### closed ###\n"
     ]
    }
   ],
   "source": [
    "import time\n",
    "import websocket\n",
    "import json\n",
    "ColorResult = {\n",
    "    'CommandHandler': \"AIColor\",\n",
    "    'CommandName': \"ColorChecked\",\n",
    "    'ParamJson': {\n",
    "        'FileName': \"1-61\",\n",
    "        'Wood': \"RO\",\n",
    "        'ColorCode': \"RO_LB\"\n",
    "    }\n",
    "}\n",
    "\n",
    "header = {\n",
    "    \"CommandHandler\": \"AIColor\",\n",
    "    \"CommandName\": \"RegistAIComm\"\n",
    "}  # 注册信息需要为 Json 格式\n",
    "header = json.dumps(header)\n",
    "\n",
    "try:\n",
    "    import _thread\n",
    "except ImportError:\n",
    "    import _thread as thread\n",
    "\n",
    "\n",
    "def on_message(ws, message):\n",
    "    global ColorResult\n",
    "    print(message)\n",
    "    ColorResult = (json.dumps(ColorResult))\n",
    "    print(ColorResult)\n",
    "    ws.send(ColorResult)\n",
    "\n",
    "\n",
    "def on_error(ws, error):\n",
    "    print(error)\n",
    "\n",
    "\n",
    "def on_close(ws):\n",
    "    print(\"### closed ###\")\n",
    "\n",
    "\n",
    "def on_open(ws):\n",
    "    def run(*args):\n",
    "        ws.send(header)\n",
    "        print(\"thread terminating...\")\n",
    "\n",
    "    _thread.start_new_thread(run, ())\n",
    "\n",
    "\n",
    "if __name__ == \"__main__\":\n",
    "    websocket.enableTrace(False)\n",
    "    ws = websocket.WebSocketApp(\"ws://127.0.0.1:2019\",\n",
    "                                on_message=on_message,\n",
    "                                on_error=on_error,\n",
    "                                on_close=on_close)\n",
    "    ws.on_open = on_open\n",
    "    ws.run_forever()"
   ]
  },
  {
   "cell_type": "code",
   "execution_count": 9,
   "metadata": {
    "ExecuteTime": {
     "end_time": "2019-05-14T12:48:48.846491Z",
     "start_time": "2019-05-14T12:48:48.838495Z"
    }
   },
   "outputs": [
    {
     "data": {
      "text/plain": [
       "{'CommandHandler': 'AIColor',\n",
       " 'CommandName': 'AIErrFeedback',\n",
       " 'ParamsJson': {'ErrMsg': 'file no exist'}}"
      ]
     },
     "execution_count": 9,
     "metadata": {},
     "output_type": "execute_result"
    }
   ],
   "source": [
    "error_message = {\n",
    "    'CommandHandler': \"AIColor\",\n",
    "    'CommandName': \"AIErrFeedback\",\n",
    "    'ParamsJson': {\n",
    "        'ErrMsg': \"XXXXXXXXXXXX\"\n",
    "    }\n",
    "}\n",
    "\n",
    "error_message['ParamsJson']['ErrMsg'] = \"file no exist\"\n",
    "error_message"
   ]
  },
  {
   "cell_type": "code",
   "execution_count": null,
   "metadata": {},
   "outputs": [],
   "source": []
  },
  {
   "cell_type": "code",
   "execution_count": null,
   "metadata": {},
   "outputs": [],
   "source": []
  },
  {
   "cell_type": "code",
   "execution_count": null,
   "metadata": {},
   "outputs": [],
   "source": []
  },
  {
   "cell_type": "code",
   "execution_count": null,
   "metadata": {},
   "outputs": [],
   "source": []
  }
 ],
 "metadata": {
  "hide_input": false,
  "kernelspec": {
   "display_name": "Python 3",
   "language": "python",
   "name": "python3"
  },
  "language_info": {
   "codemirror_mode": {
    "name": "ipython",
    "version": 3
   },
   "file_extension": ".py",
   "mimetype": "text/x-python",
   "name": "python",
   "nbconvert_exporter": "python",
   "pygments_lexer": "ipython3",
   "version": "3.6.6"
  },
  "toc": {
   "base_numbering": 1,
   "nav_menu": {},
   "number_sections": true,
   "sideBar": true,
   "skip_h1_title": false,
   "title_cell": "Table of Contents",
   "title_sidebar": "Contents",
   "toc_cell": false,
   "toc_position": {},
   "toc_section_display": true,
   "toc_window_display": false
  },
  "varInspector": {
   "cols": {
    "lenName": 16,
    "lenType": 16,
    "lenVar": 40
   },
   "kernels_config": {
    "python": {
     "delete_cmd_postfix": "",
     "delete_cmd_prefix": "del ",
     "library": "var_list.py",
     "varRefreshCmd": "print(var_dic_list())"
    },
    "r": {
     "delete_cmd_postfix": ") ",
     "delete_cmd_prefix": "rm(",
     "library": "var_list.r",
     "varRefreshCmd": "cat(var_dic_list()) "
    }
   },
   "types_to_exclude": [
    "module",
    "function",
    "builtin_function_or_method",
    "instance",
    "_Feature"
   ],
   "window_display": false
  }
 },
 "nbformat": 4,
 "nbformat_minor": 2
}
