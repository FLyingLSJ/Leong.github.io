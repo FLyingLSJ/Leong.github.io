{
 "cells": [
  {
   "cell_type": "markdown",
   "metadata": {},
   "source": [
    "### 验证集预测可视化"
   ]
  },
  {
   "cell_type": "markdown",
   "metadata": {},
   "source": [
    "关注的问题：对图像标签进行编码后，编码对应的原始便签是什么:https://keras-cn.readthedocs.io/en/latest/preprocessing/image/\n",
    "\n",
    "解决的问题：从测试集中读取一张图片进行预测，预测出来后在图片上打上原始的类别和预测的类别，并进行显示"
   ]
  },
  {
   "cell_type": "markdown",
   "metadata": {},
   "source": [
    "### 导入所需要的包"
   ]
  },
  {
   "cell_type": "code",
   "execution_count": 1,
   "metadata": {
    "ExecuteTime": {
     "end_time": "2019-05-13T02:51:58.619592Z",
     "start_time": "2019-05-13T02:51:53.709367Z"
    }
   },
   "outputs": [
    {
     "name": "stderr",
     "output_type": "stream",
     "text": [
      "Using TensorFlow backend.\n"
     ]
    }
   ],
   "source": [
    "import keras\n",
    "from keras.models import Sequential\n",
    "from keras.layers import Conv2D, MaxPooling2D, Dropout, Dense, Flatten\n",
    "from keras.optimizers import RMSprop\n",
    "import os, shutil\n",
    "from keras.preprocessing.image import ImageDataGenerator\n",
    "from keras.utils import to_categorical\n",
    "from keras.callbacks import ModelCheckpoint, EarlyStopping, ReduceLROnPlateau\n",
    "from time import time\n",
    "import matplotlib.pyplot as plt\n",
    "from keras.preprocessing import image\n",
    "import numpy as np\n",
    "from keras.utils import np_utils"
   ]
  },
  {
   "cell_type": "code",
   "execution_count": 2,
   "metadata": {
    "ExecuteTime": {
     "end_time": "2019-05-13T02:20:48.903974Z",
     "start_time": "2019-05-13T02:20:48.880974Z"
    },
    "scrolled": false
   },
   "outputs": [
    {
     "data": {
      "text/plain": [
       "'2.2.4'"
      ]
     },
     "execution_count": 2,
     "metadata": {},
     "output_type": "execute_result"
    }
   ],
   "source": [
    "keras.__version__"
   ]
  },
  {
   "cell_type": "markdown",
   "metadata": {},
   "source": [
    "### 数据处理"
   ]
  },
  {
   "cell_type": "markdown",
   "metadata": {},
   "source": [
    "- brown [1. 0. 0.]\n",
    "- Mineral [0. 1. 0.]\n",
    "- SAPwood [0. 0. 1.]"
   ]
  },
  {
   "cell_type": "code",
   "execution_count": 2,
   "metadata": {
    "ExecuteTime": {
     "end_time": "2019-05-13T03:03:33.176626Z",
     "start_time": "2019-05-13T03:03:33.131653Z"
    },
    "scrolled": true
   },
   "outputs": [],
   "source": [
    "from random import choice\n",
    "import cv2 as cv\n",
    "\n",
    "\n",
    "# 每个类别在测试集的路径\n",
    "brown_path = \"F:/jupyter/pycharm/keras_tutorial/pyqt5_tool_demo/ImageData/img_data/test/brown/\" \n",
    "Mineral_path = \"F:/jupyter/pycharm/keras_tutorial/pyqt5_tool_demo/ImageData/img_data/test/Mineral/\"\n",
    "SAPwood_path = \"F:/jupyter/pycharm/keras_tutorial/pyqt5_tool_demo/ImageData/img_data/test/SAPwood/\"\n",
    "\n",
    "# 用来存放每个类别中图片的绝对路径\n",
    "brown_img_path = []\n",
    "Mineral_img_path = []\n",
    "SAPwood_img_path = []\n",
    "\n",
    "font = cv.FONT_HERSHEY_SIMPLEX # 字体\n",
    "\n",
    "# 读取每张图片的绝对路径\n",
    "for i, j, k in zip(os.listdir(brown_path), os.listdir(Mineral_path), os.listdir(SAPwood_path)):\n",
    "    brown_img_path.append(os.path.join(brown_path, i))\n",
    "    Mineral_img_path.append(os.path.join(Mineral_path, j))\n",
    "    SAPwood_img_path.append(os.path.join(SAPwood_path, k))\n",
    "\n",
    "\n",
    "\n",
    "# 将所有的类别列表合并成一个，随机选择\n",
    "all_img_path = brown_img_path + Mineral_img_path + SAPwood_img_path\n",
    "#print(all_img_path)  \n",
    "\n",
    "# 随机从测试集中挑选一张图片\n",
    "def random_choice_img(image_path):\n",
    "    \"\"\"\n",
    "    image_path：所有图片的路径列表\n",
    "    return：\n",
    "        img_array：可用于预测的图片数据\n",
    "        class_name：原始图片的真实类别\n",
    "        img_cv：OpenCV 读取的图片，用来可视化\n",
    "    \"\"\"\n",
    "    img_path = choice(image_path)\n",
    "    #print(img_path)\n",
    "    #print(img_path.split(\"/\")[-2])\n",
    "    # OpenCV 读取，用来可视化\n",
    "    img_cv = cv.imread(img_path)\n",
    "    #print(img_cv)\n",
    "    \n",
    "    \n",
    "    # 读取，用来预测\n",
    "    img = image.load_img(img_path, target_size=(150, 150))\n",
    "    img_array = image.img_to_array(img)\n",
    "    # 归一化\n",
    "    img_array = img_array / 255.\n",
    "    class_name = img_path.split(\"/\")[-2]\n",
    "    #print(img_array, class_name)\n",
    "    return img_array.reshape(-1, 150, 150, 3), class_name, img_cv\n",
    "\n",
    "#img_array, class_name, img_cv = random_choice_img(all_img_path) "
   ]
  },
  {
   "cell_type": "markdown",
   "metadata": {},
   "source": [
    "### 导入模型"
   ]
  },
  {
   "cell_type": "code",
   "execution_count": 5,
   "metadata": {
    "ExecuteTime": {
     "end_time": "2019-05-13T03:04:12.782942Z",
     "start_time": "2019-05-13T03:04:11.225836Z"
    },
    "scrolled": true
   },
   "outputs": [
    {
     "name": "stdout",
     "output_type": "stream",
     "text": [
      "_________________________________________________________________\n",
      "Layer (type)                 Output Shape              Param #   \n",
      "=================================================================\n",
      "conv2d_1 (Conv2D)            (None, 75, 75, 32)        2432      \n",
      "_________________________________________________________________\n",
      "max_pooling2d_1 (MaxPooling2 (None, 37, 37, 32)        0         \n",
      "_________________________________________________________________\n",
      "conv2d_2 (Conv2D)            (None, 37, 37, 32)        9248      \n",
      "_________________________________________________________________\n",
      "max_pooling2d_2 (MaxPooling2 (None, 18, 18, 32)        0         \n",
      "_________________________________________________________________\n",
      "conv2d_3 (Conv2D)            (None, 18, 18, 64)        18496     \n",
      "_________________________________________________________________\n",
      "max_pooling2d_3 (MaxPooling2 (None, 9, 9, 64)          0         \n",
      "_________________________________________________________________\n",
      "conv2d_4 (Conv2D)            (None, 9, 9, 64)          36928     \n",
      "_________________________________________________________________\n",
      "max_pooling2d_4 (MaxPooling2 (None, 4, 4, 64)          0         \n",
      "_________________________________________________________________\n",
      "conv2d_5 (Conv2D)            (None, 2, 2, 128)         73856     \n",
      "_________________________________________________________________\n",
      "max_pooling2d_5 (MaxPooling2 (None, 1, 1, 128)         0         \n",
      "_________________________________________________________________\n",
      "flatten_1 (Flatten)          (None, 128)               0         \n",
      "_________________________________________________________________\n",
      "dropout_1 (Dropout)          (None, 128)               0         \n",
      "_________________________________________________________________\n",
      "dense_1 (Dense)              (None, 999)               128871    \n",
      "_________________________________________________________________\n",
      "dense_2 (Dense)              (None, 3)                 3000      \n",
      "=================================================================\n",
      "Total params: 272,831\n",
      "Trainable params: 272,831\n",
      "Non-trainable params: 0\n",
      "_________________________________________________________________\n"
     ]
    }
   ],
   "source": [
    "from keras.models import load_model\n",
    "model_load = load_model(\"./ModelPath/1555812970.2107625.h5\")\n",
    "model_load.summary()"
   ]
  },
  {
   "cell_type": "markdown",
   "metadata": {},
   "source": [
    "### 预测并进行绘制结果"
   ]
  },
  {
   "cell_type": "code",
   "execution_count": 7,
   "metadata": {
    "ExecuteTime": {
     "end_time": "2019-05-13T03:05:33.601228Z",
     "start_time": "2019-05-13T03:04:28.994008Z"
    }
   },
   "outputs": [
    {
     "name": "stdout",
     "output_type": "stream",
     "text": [
      "0.9524540901184082\n",
      "0.9684445858001709\n"
     ]
    }
   ],
   "source": [
    "from time import time\n",
    "\n",
    "\n",
    "t1 = time()\n",
    " \n",
    "\n",
    "img_array, class_name, img_cv = random_choice_img(all_img_path) \n",
    "prediction = np.argmax(model_load.predict(img_array))\n",
    "t2 = time()\n",
    "print(t2-t1)\n",
    "if 0 == prediction:\n",
    "    prediction = \"brown\"\n",
    "if 1 == prediction:   \n",
    "    prediction = 'Mineral'\n",
    "if 2 == prediction:\n",
    "    prediction = 'SAPwood'\n",
    "    \n",
    "    \n",
    "img = cv.putText(img_cv, str('prediction:')+str(prediction), (500, 500), font, 4,(0,0,255),10,cv.LINE_AA)\n",
    "\n",
    "img = cv.putText(img_cv, str('real      :')+class_name, (500, 700), font, 4,(0,0,255),10,cv.LINE_AA)\n",
    "\n",
    "img = cv.resize(img, (1000, 1000))\n",
    "\n",
    "t3 = time()\n",
    "print(t3-t1)\n",
    "cv.imshow(\"img\", img)\n",
    "cv.waitKey(0)\n",
    "cv.destroyAllWindows()"
   ]
  },
  {
   "cell_type": "code",
   "execution_count": null,
   "metadata": {},
   "outputs": [],
   "source": []
  },
  {
   "cell_type": "code",
   "execution_count": 7,
   "metadata": {},
   "outputs": [
    {
     "name": "stdout",
     "output_type": "stream",
     "text": [
      "2\n",
      "0.3230102062225342\n"
     ]
    }
   ],
   "source": [
    "t1 = time()\n",
    "img_path = 'F:/jupyter/wood_detection/demo/scan_demo/test.jpg'\n",
    "img = image.load_img(img_path, target_size=(150, 150))\n",
    "img_array = image.img_to_array(img)\n",
    "# 归一化\n",
    "img_array = img_array / 255.\n",
    "img_array = img_array.reshape(-1, 150, 150, 3)\n",
    "prediction = np.argmax(model_load.predict(img_array))\n",
    "print(prediction)\n",
    "t2 = time()\n",
    "print(t2-t1)"
   ]
  },
  {
   "cell_type": "code",
   "execution_count": null,
   "metadata": {},
   "outputs": [],
   "source": []
  },
  {
   "cell_type": "code",
   "execution_count": null,
   "metadata": {},
   "outputs": [],
   "source": []
  },
  {
   "cell_type": "code",
   "execution_count": null,
   "metadata": {},
   "outputs": [],
   "source": []
  }
 ],
 "metadata": {
  "hide_input": false,
  "kernelspec": {
   "display_name": "Python 3",
   "language": "python",
   "name": "python3"
  },
  "language_info": {
   "codemirror_mode": {
    "name": "ipython",
    "version": 3
   },
   "file_extension": ".py",
   "mimetype": "text/x-python",
   "name": "python",
   "nbconvert_exporter": "python",
   "pygments_lexer": "ipython3",
   "version": "3.6.6"
  },
  "toc": {
   "base_numbering": 1,
   "nav_menu": {},
   "number_sections": true,
   "sideBar": true,
   "skip_h1_title": false,
   "title_cell": "Table of Contents",
   "title_sidebar": "Contents",
   "toc_cell": false,
   "toc_position": {
    "height": "calc(100% - 180px)",
    "left": "10px",
    "top": "150px",
    "width": "273.188px"
   },
   "toc_section_display": true,
   "toc_window_display": true
  },
  "varInspector": {
   "cols": {
    "lenName": 16,
    "lenType": 16,
    "lenVar": 40
   },
   "kernels_config": {
    "python": {
     "delete_cmd_postfix": "",
     "delete_cmd_prefix": "del ",
     "library": "var_list.py",
     "varRefreshCmd": "print(var_dic_list())"
    },
    "r": {
     "delete_cmd_postfix": ") ",
     "delete_cmd_prefix": "rm(",
     "library": "var_list.r",
     "varRefreshCmd": "cat(var_dic_list()) "
    }
   },
   "types_to_exclude": [
    "module",
    "function",
    "builtin_function_or_method",
    "instance",
    "_Feature"
   ],
   "window_display": false
  }
 },
 "nbformat": 4,
 "nbformat_minor": 2
}
