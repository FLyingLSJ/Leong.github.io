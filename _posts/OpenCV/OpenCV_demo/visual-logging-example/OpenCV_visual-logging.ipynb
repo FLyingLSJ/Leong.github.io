{
 "cells": [
  {
   "cell_type": "markdown",
   "metadata": {},
   "source": [
    "# OpenCV 可视化工具"
   ]
  },
  {
   "cell_type": "code",
   "execution_count": 16,
   "metadata": {
    "ExecuteTime": {
     "end_time": "2019-11-05T11:12:52.589815Z",
     "start_time": "2019-11-05T11:12:49.034894Z"
    }
   },
   "outputs": [
    {
     "data": {
      "text/plain": [
       "True"
      ]
     },
     "execution_count": 16,
     "metadata": {},
     "output_type": "execute_result"
    }
   ],
   "source": [
    "# USAGE\n",
    "# python visual_logging_example.py\n",
    "\n",
    "# 导入所需要的包\n",
    "from logging import FileHandler\n",
    "from vlogging import VisualRecord\n",
    "import logging\n",
    "import cv2\n",
    "import webbrowser  # 用来显示网页的\n",
    "import os\n",
    "# open the logging file\n",
    "logger = logging.getLogger(\"visual_logging_example\")  # 创建一个指定名称的记录器\n",
    "demo_file = \"C:/BLOG/flyinglsj.github.io/_posts/OpenCV/OpenCV_demo/visual-logging-example/demo.html\"\n",
    "# if os.path.exists(demo_file) is not None:\n",
    "#     os.remove(demo_file)\n",
    "fh = FileHandler(demo_file, mode=\"w\")  # 创建一个 html 文件，用来记录调试结果\n",
    "\n",
    "# set the logger attributes\n",
    "logger.setLevel(logging.DEBUG)  # 创建记录器的等级\n",
    "logger.addHandler(fh)  # 将指定的处理程序添加到记录器\n",
    "\n",
    "# 调试用例\n",
    "image = cv2.imread(\n",
    "    \"C:/BLOG/flyinglsj.github.io/_posts/OpenCV/OpenCV_demo/visual-logging-example/Laplacian.jpg\"\n",
    ")\n",
    "img_gray = cv2.cvtColor(image, cv2.COLOR_BGR2GRAY)\n",
    "\n",
    "# 第一次添加记录\n",
    "logger.debug(VisualRecord(\"src\", [image], fmt=\"png\"))    \n",
    "# 使用自适应阈值函数处理\n",
    "for s in range(1, 6, 2):\n",
    "    img_gray = cv2.medianBlur(img_gray, s)\n",
    "    img_edge = cv2.adaptiveThreshold(img_gray,\n",
    "                                     255,\n",
    "                                     cv2.ADAPTIVE_THRESH_MEAN_C,\n",
    "                                     cv2.THRESH_BINARY,\n",
    "                                     blockSize=3,\n",
    "                                     C=2)\n",
    "    logger.debug(VisualRecord((\"ksize = %d\" % (s)), [image, img_edge], fmt=\"png\"))\n",
    "\n",
    "    \n",
    "webbrowser.open_new_tab(demo_file)\n"
   ]
  },
  {
   "cell_type": "markdown",
   "metadata": {
    "ExecuteTime": {
     "end_time": "2019-11-05T10:41:54.760786Z",
     "start_time": "2019-11-05T10:40:48.931597Z"
    }
   },
   "source": [
    "OpenCV 传统的调试方式是 `cv2.imshow()` `cv2.waitKey()` ，即显示一张图片，然后查看之后再销毁它，\n",
    "这个操作实在是太不方便了，如果调试时，要显示指定程序位置的图片就需要在其之后添加  `cv2.imshow() cv2.waitKey()` ，满满的一屏图像看得眼花缭乱。\n",
    "\n",
    "对！就是这种效果\n",
    "![image](https://tvax4.sinaimg.cn/large/acbcfa39gy1g8ncozjrfkj21h00ty1ky.jpg)\n",
    "\n",
    "但是，现在我们有了好用的工具 visual-logging 一个可视化的调试工具，它使用漂亮的 HTML 结构格式化所有内容。\n",
    "这个包的功能类似于，你告诉它，我想在这里记录一下当前的结果是什么，它就会帮你截图保留下来，最后保存成一个 html 文件\n",
    "\n",
    "\n",
    "安装也很简单\n",
    "```bash\n",
    "pip install visual-logging\n",
    "```\n",
    "\n",
    "我们用个例子说明一下，我们先读取一张图片，然后进行简单的自适应阈值函数处理，记录一下不同参数下的结果。\n",
    "```python\n",
    "# USAGE\n",
    "# python visual_logging_example.py\n",
    "\n",
    "# 导入所需要的包\n",
    "from logging import FileHandler\n",
    "from vlogging import VisualRecord\n",
    "import logging\n",
    "import cv2\n",
    "import webbrowser  # 用来显示网页的\n",
    "import os\n",
    "# open the logging file\n",
    "logger = logging.getLogger(\"visual_logging_example\")  # 创建一个指定名称的记录器\n",
    "demo_file = \"C:/BLOG/flyinglsj.github.io/_posts/OpenCV/OpenCV_demo/visual-logging-example/demo.html\"\n",
    "# if os.path.exists(demo_file) is not None:\n",
    "#     os.remove(demo_file)\n",
    "fh = FileHandler(demo_file, mode=\"w\")  # 创建一个 html 文件，用来记录调试结果\n",
    "\n",
    "# set the logger attributes\n",
    "logger.setLevel(logging.DEBUG)  # 创建记录器的等级\n",
    "logger.addHandler(fh)  # 将指定的处理程序添加到记录器\n",
    "\n",
    "# 调试用例\n",
    "image = cv2.imread(\n",
    "    \"C:/BLOG/flyinglsj.github.io/_posts/OpenCV/OpenCV_demo/visual-logging-example/Laplacian.jpg\"\n",
    ")\n",
    "img_gray = cv2.cvtColor(image, cv2.COLOR_BGR2GRAY)\n",
    "\n",
    "# 第一次添加记录\n",
    "logger.debug(VisualRecord(\"src\", [image], fmt=\"png\"))    \n",
    "# 使用自适应阈值函数处理\n",
    "for s in range(1, 6, 2):\n",
    "    img_gray = cv2.medianBlur(img_gray, s)\n",
    "    img_edge = cv2.adaptiveThreshold(img_gray,\n",
    "                                     255,\n",
    "                                     cv2.ADAPTIVE_THRESH_MEAN_C,\n",
    "                                     cv2.THRESH_BINARY,\n",
    "                                     blockSize=3,\n",
    "                                     C=2)\n",
    "    logger.debug(VisualRecord((\"ksize = %d\" % (s)), [image, img_edge], fmt=\"png\"))\n",
    "\n",
    "    \n",
    "webbrowser.open_new_tab(demo_file)\n",
    "\n",
    "```\n",
    "运行完程序以后，会自动生成一个 html 文件，顺便帮你自动打开它，是不是很方便。\n",
    "![2t](https://tvax3.sinaimg.cn/large/acbcfa39gy1g8ndtesii7g205k04qe0x.gif)\n",
    "![t](https://tva2.sinaimg.cn/large/acbcfa39gy1g8ndi3jfjig20tz0pi7wy.gif)"
   ]
  },
  {
   "cell_type": "code",
   "execution_count": null,
   "metadata": {},
   "outputs": [],
   "source": []
  }
 ],
 "metadata": {
  "hide_input": false,
  "kernelspec": {
   "display_name": "Python 3",
   "language": "python",
   "name": "python3"
  },
  "language_info": {
   "codemirror_mode": {
    "name": "ipython",
    "version": 3
   },
   "file_extension": ".py",
   "mimetype": "text/x-python",
   "name": "python",
   "nbconvert_exporter": "python",
   "pygments_lexer": "ipython3",
   "version": "3.6.6"
  },
  "toc": {
   "base_numbering": 1,
   "nav_menu": {},
   "number_sections": true,
   "sideBar": true,
   "skip_h1_title": false,
   "title_cell": "Table of Contents",
   "title_sidebar": "Contents",
   "toc_cell": false,
   "toc_position": {},
   "toc_section_display": true,
   "toc_window_display": false
  },
  "varInspector": {
   "cols": {
    "lenName": 16,
    "lenType": 16,
    "lenVar": 40
   },
   "kernels_config": {
    "python": {
     "delete_cmd_postfix": "",
     "delete_cmd_prefix": "del ",
     "library": "var_list.py",
     "varRefreshCmd": "print(var_dic_list())"
    },
    "r": {
     "delete_cmd_postfix": ") ",
     "delete_cmd_prefix": "rm(",
     "library": "var_list.r",
     "varRefreshCmd": "cat(var_dic_list()) "
    }
   },
   "types_to_exclude": [
    "module",
    "function",
    "builtin_function_or_method",
    "instance",
    "_Feature"
   ],
   "window_display": false
  }
 },
 "nbformat": 4,
 "nbformat_minor": 2
}
